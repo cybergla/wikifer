{
 "cells": [
  {
   "cell_type": "code",
   "execution_count": 1,
   "metadata": {},
   "outputs": [],
   "source": [
    "import pandas as pd\n",
    "import numpy as np\n",
    "import requests"
   ]
  },
  {
   "cell_type": "code",
   "execution_count": 2,
   "metadata": {},
   "outputs": [],
   "source": [
    "from wikifier import Wikifier"
   ]
  },
  {
   "cell_type": "code",
   "execution_count": 3,
   "metadata": {},
   "outputs": [],
   "source": [
    "from excel_parser import ExcelParser"
   ]
  },
  {
   "cell_type": "code",
   "execution_count": 4,
   "metadata": {},
   "outputs": [],
   "source": [
    "parser = ExcelParser()\n",
    "xl = pd.ExcelFile(\"datasets/presidents/Presidents.xls\")\n",
    "df = parser.parse(xl)[0]"
   ]
  },
  {
   "cell_type": "code",
   "execution_count": 5,
   "metadata": {},
   "outputs": [],
   "source": [
    "path = \"datasets/presidents\""
   ]
  },
  {
   "cell_type": "code",
   "execution_count": 7,
   "metadata": {},
   "outputs": [],
   "source": [
    "items = df['President'].tolist()"
   ]
  },
  {
   "cell_type": "code",
   "execution_count": 8,
   "metadata": {
    "scrolled": false
   },
   "outputs": [
    {
     "data": {
      "text/plain": [
       "['George Washington',\n",
       " 'John Adams',\n",
       " 'Thomas Jefferson',\n",
       " 'James Madison',\n",
       " 'James Monroe',\n",
       " 'John Quincy Adams',\n",
       " 'Andrew Jackson',\n",
       " 'Martin Van Buren ',\n",
       " 'William Henry Harrison',\n",
       " 'James K. Polk',\n",
       " 'Zachary Taylor',\n",
       " 'Franklin Pierce',\n",
       " 'James Buchanan',\n",
       " 'Abraham Lincoln',\n",
       " 'Ulysses S. Grant',\n",
       " 'Rutherford B. Hayes',\n",
       " 'James A. Garfield',\n",
       " 'Grover Cleveland',\n",
       " 'Benjamin Harrison',\n",
       " 'Grover Cleveland',\n",
       " 'William McKinley',\n",
       " 'William Howard Taft',\n",
       " 'Woodrow Wilson',\n",
       " 'Warren G. Harding',\n",
       " 'Herbert Hoover',\n",
       " 'Franklin Roosevelt',\n",
       " 'Dwight D. Eisenhower',\n",
       " 'John F. Kennedy',\n",
       " 'Richard M. Nixon',\n",
       " 'Jimmy Carter',\n",
       " 'Ronald Reagan',\n",
       " 'George Bush',\n",
       " 'Bill Clinton',\n",
       " 'George W. Bush',\n",
       " 'Barack Obama']"
      ]
     },
     "execution_count": 8,
     "metadata": {},
     "output_type": "execute_result"
    }
   ],
   "source": [
    "items"
   ]
  },
  {
   "cell_type": "code",
   "execution_count": 9,
   "metadata": {},
   "outputs": [],
   "source": [
    "wikifier = Wikifier(items,path)"
   ]
  },
  {
   "cell_type": "code",
   "execution_count": 10,
   "metadata": {
    "scrolled": false
   },
   "outputs": [
    {
     "name": "stderr",
     "output_type": "stream",
     "text": [
      "\r",
      "  0%|          | 0/35 [00:00<?, ?it/s]"
     ]
    },
    {
     "name": "stdout",
     "output_type": "stream",
     "text": [
      "Retrieving all qnodes\n"
     ]
    },
    {
     "name": "stderr",
     "output_type": "stream",
     "text": [
      "100%|██████████| 35/35 [00:14<00:00,  2.61it/s]\n",
      "  0%|          | 0/35 [00:00<?, ?it/s]"
     ]
    },
    {
     "name": "stdout",
     "output_type": "stream",
     "text": [
      "Building wikified data\n"
     ]
    },
    {
     "name": "stderr",
     "output_type": "stream",
     "text": [
      "100%|██████████| 35/35 [02:13<00:00,  6.32s/it]\n"
     ]
    },
    {
     "name": "stdout",
     "output_type": "stream",
     "text": [
      "Calculating histogram\n"
     ]
    },
    {
     "name": "stderr",
     "output_type": "stream",
     "text": [
      "\r",
      "  0%|          | 0/16 [00:00<?, ?it/s]"
     ]
    },
    {
     "name": "stdout",
     "output_type": "stream",
     "text": [
      "Retreiving names\n"
     ]
    },
    {
     "name": "stderr",
     "output_type": "stream",
     "text": [
      "100%|██████████| 16/16 [00:07<00:00,  2.21it/s]\n"
     ]
    },
    {
     "name": "stdout",
     "output_type": "stream",
     "text": [
      "Result\n",
      "           confidence                  name\n",
      "class                                      \n",
      "Q246672     35.294118   mathematical object\n",
      "Q7551384    29.411765          social space\n",
      "Q294440     29.411765          public space\n",
      "Q11755880   29.411765  residential building\n",
      "Q3947       29.411765                 house\n",
      "Q699405     29.411765             residence\n",
      "Q9826       29.411765           high school\n",
      "Q1496967    26.470588    territorial entity\n",
      "Q1030034    26.470588                  GLAM\n",
      "Q7075       26.470588               library\n"
     ]
    }
   ],
   "source": [
    "wikifier.wikify()"
   ]
  },
  {
   "cell_type": "code",
   "execution_count": null,
   "metadata": {},
   "outputs": [],
   "source": []
  }
 ],
 "metadata": {
  "kernelspec": {
   "display_name": "Python 3",
   "language": "python",
   "name": "python3"
  },
  "language_info": {
   "codemirror_mode": {
    "name": "ipython",
    "version": 3
   },
   "file_extension": ".py",
   "mimetype": "text/x-python",
   "name": "python",
   "nbconvert_exporter": "python",
   "pygments_lexer": "ipython3",
   "version": "3.6.2"
  }
 },
 "nbformat": 4,
 "nbformat_minor": 2
}
